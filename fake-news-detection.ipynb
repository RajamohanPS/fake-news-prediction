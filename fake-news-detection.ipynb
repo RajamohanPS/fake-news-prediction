{
 "cells": [
  {
   "cell_type": "markdown",
   "metadata": {},
   "source": [
    "# Fake news detection/classification "
   ]
  },
  {
   "cell_type": "code",
   "execution_count": 1,
   "metadata": {},
   "outputs": [],
   "source": [
    "import pandas as pd\n",
    "import numpy as np\n",
    "import matplotlib.pyplot as plt\n",
    "import seaborn as sns"
   ]
  },
  {
   "cell_type": "code",
   "execution_count": 2,
   "metadata": {},
   "outputs": [],
   "source": [
    "import neattext as nt\n",
    "import spacy\n",
    "from sklearn.model_selection import train_test_split"
   ]
  },
  {
   "cell_type": "markdown",
   "metadata": {},
   "source": [
    "## Loading Data"
   ]
  },
  {
   "cell_type": "code",
   "execution_count": 5,
   "metadata": {},
   "outputs": [],
   "source": [
    "# datasets\n",
    "fake_data = pd.read_csv('datasets/Fake.csv')\n",
    "true_data = pd.read_csv('datasets/True.csv')\n",
    "\n",
    "# adding class column (fake - 1, real - 0)\n",
    "fake_data['class'] = 1\n",
    "true_data['class'] = 0"
   ]
  },
  {
   "cell_type": "code",
   "execution_count": 4,
   "metadata": {},
   "outputs": [
    {
     "data": {
      "text/html": [
       "<div>\n",
       "<style scoped>\n",
       "    .dataframe tbody tr th:only-of-type {\n",
       "        vertical-align: middle;\n",
       "    }\n",
       "\n",
       "    .dataframe tbody tr th {\n",
       "        vertical-align: top;\n",
       "    }\n",
       "\n",
       "    .dataframe thead th {\n",
       "        text-align: right;\n",
       "    }\n",
       "</style>\n",
       "<table border=\"1\" class=\"dataframe\">\n",
       "  <thead>\n",
       "    <tr style=\"text-align: right;\">\n",
       "      <th></th>\n",
       "      <th>title</th>\n",
       "      <th>text</th>\n",
       "      <th>subject</th>\n",
       "      <th>class</th>\n",
       "    </tr>\n",
       "  </thead>\n",
       "  <tbody>\n",
       "    <tr>\n",
       "      <th>0</th>\n",
       "      <td>Trump, Biden attend same Pennsylvania college ...</td>\n",
       "      <td>(Reuters) - Presidential politics crept into t...</td>\n",
       "      <td>politicsNews</td>\n",
       "      <td>0</td>\n",
       "    </tr>\n",
       "    <tr>\n",
       "      <th>1</th>\n",
       "      <td>HILARIOUS! Random French People Say They’d Gla...</td>\n",
       "      <td>Watch this hilarious video from our British co...</td>\n",
       "      <td>left-news</td>\n",
       "      <td>1</td>\n",
       "    </tr>\n",
       "    <tr>\n",
       "      <th>2</th>\n",
       "      <td>Bill Maher Shows America Why Donald Trump Mus...</td>\n",
       "      <td>Bill Maher is not shy about what he thinks of ...</td>\n",
       "      <td>News</td>\n",
       "      <td>1</td>\n",
       "    </tr>\n",
       "    <tr>\n",
       "      <th>3</th>\n",
       "      <td>THE LIST of 34 House Republicans DEMANDING Per...</td>\n",
       "      <td>Who wants to deport  Dreamers ? Not many peopl...</td>\n",
       "      <td>politics</td>\n",
       "      <td>1</td>\n",
       "    </tr>\n",
       "    <tr>\n",
       "      <th>4</th>\n",
       "      <td>Undeterred By Threats Of GOP Obstruction, Oba...</td>\n",
       "      <td>President Obama is clearly not letting GOP thr...</td>\n",
       "      <td>News</td>\n",
       "      <td>1</td>\n",
       "    </tr>\n",
       "    <tr>\n",
       "      <th>...</th>\n",
       "      <td>...</td>\n",
       "      <td>...</td>\n",
       "      <td>...</td>\n",
       "      <td>...</td>\n",
       "    </tr>\n",
       "    <tr>\n",
       "      <th>44893</th>\n",
       "      <td>AFTER MONTHS OF TRASHING OUR PRESIDENT, Senato...</td>\n",
       "      <td>Conservative talk radio, tv and websites are n...</td>\n",
       "      <td>left-news</td>\n",
       "      <td>1</td>\n",
       "    </tr>\n",
       "    <tr>\n",
       "      <th>44894</th>\n",
       "      <td>China unveils new leadership line-up with no c...</td>\n",
       "      <td>BEIJING (Reuters) - China s ruling Communist P...</td>\n",
       "      <td>worldnews</td>\n",
       "      <td>0</td>\n",
       "    </tr>\n",
       "    <tr>\n",
       "      <th>44895</th>\n",
       "      <td>Caitlyn Jenner Slams Trump, Considers Running...</td>\n",
       "      <td>Caitlyn Jenner is not afraid to speak her mind...</td>\n",
       "      <td>News</td>\n",
       "      <td>1</td>\n",
       "    </tr>\n",
       "    <tr>\n",
       "      <th>44896</th>\n",
       "      <td>Antonin Scalia’s Own Past Ruling Will Hand Ob...</td>\n",
       "      <td>The Obama administration recently sent a missi...</td>\n",
       "      <td>News</td>\n",
       "      <td>1</td>\n",
       "    </tr>\n",
       "    <tr>\n",
       "      <th>44897</th>\n",
       "      <td>USDA MIGHT WANT TO RETHINK REMOVING COUNTRY OF...</td>\n",
       "      <td>Yuck! It s bad enough that China had a dog mea...</td>\n",
       "      <td>Government News</td>\n",
       "      <td>1</td>\n",
       "    </tr>\n",
       "  </tbody>\n",
       "</table>\n",
       "<p>44898 rows × 4 columns</p>\n",
       "</div>"
      ],
      "text/plain": [
       "                                                   title  \\\n",
       "0      Trump, Biden attend same Pennsylvania college ...   \n",
       "1      HILARIOUS! Random French People Say They’d Gla...   \n",
       "2       Bill Maher Shows America Why Donald Trump Mus...   \n",
       "3      THE LIST of 34 House Republicans DEMANDING Per...   \n",
       "4       Undeterred By Threats Of GOP Obstruction, Oba...   \n",
       "...                                                  ...   \n",
       "44893  AFTER MONTHS OF TRASHING OUR PRESIDENT, Senato...   \n",
       "44894  China unveils new leadership line-up with no c...   \n",
       "44895   Caitlyn Jenner Slams Trump, Considers Running...   \n",
       "44896   Antonin Scalia’s Own Past Ruling Will Hand Ob...   \n",
       "44897  USDA MIGHT WANT TO RETHINK REMOVING COUNTRY OF...   \n",
       "\n",
       "                                                    text          subject  \\\n",
       "0      (Reuters) - Presidential politics crept into t...     politicsNews   \n",
       "1      Watch this hilarious video from our British co...        left-news   \n",
       "2      Bill Maher is not shy about what he thinks of ...             News   \n",
       "3      Who wants to deport  Dreamers ? Not many peopl...         politics   \n",
       "4      President Obama is clearly not letting GOP thr...             News   \n",
       "...                                                  ...              ...   \n",
       "44893  Conservative talk radio, tv and websites are n...        left-news   \n",
       "44894  BEIJING (Reuters) - China s ruling Communist P...        worldnews   \n",
       "44895  Caitlyn Jenner is not afraid to speak her mind...             News   \n",
       "44896  The Obama administration recently sent a missi...             News   \n",
       "44897  Yuck! It s bad enough that China had a dog mea...  Government News   \n",
       "\n",
       "       class  \n",
       "0          0  \n",
       "1          1  \n",
       "2          1  \n",
       "3          1  \n",
       "4          1  \n",
       "...      ...  \n",
       "44893      1  \n",
       "44894      0  \n",
       "44895      1  \n",
       "44896      1  \n",
       "44897      1  \n",
       "\n",
       "[44898 rows x 4 columns]"
      ]
     },
     "execution_count": 4,
     "metadata": {},
     "output_type": "execute_result"
    }
   ],
   "source": [
    "# joining both fake/real datasets and shuffling \n",
    "data = pd.concat([fake_data, true_data])\n",
    "data = data.sample(frac=1).reset_index(drop=True)\n",
    "data.drop('date', axis=1, inplace=True) # dropping date feature as it is not required for analysis\n",
    "data"
   ]
  },
  {
   "cell_type": "markdown",
   "metadata": {},
   "source": [
    "------------------------------------------\n",
    "## Visualization:"
   ]
  },
  {
   "cell_type": "code",
   "execution_count": 4,
   "metadata": {
    "scrolled": true
   },
   "outputs": [
    {
     "data": {
      "text/plain": [
       "<AxesSubplot:xlabel='class', ylabel='count'>"
      ]
     },
     "execution_count": 4,
     "metadata": {},
     "output_type": "execute_result"
    },
    {
     "data": {
      "image/png": "[encoded data removed]",
      "text/plain": [
       "<Figure size 432x288 with 1 Axes>"
      ]
     },
     "metadata": {
      "needs_background": "light"
     },
     "output_type": "display_data"
    }
   ],
   "source": [
    "sns.countplot(x='class', data=data)"
   ]
  },
  {
   "cell_type": "markdown",
   "metadata": {},
   "source": [
    "The number of fake & real news in the dataset are not too far off. <br>\n",
    "The dataset is balanced."
   ]
  },
  {
   "cell_type": "code",
   "execution_count": 5,
   "metadata": {
    "scrolled": true
   },
   "outputs": [
    {
     "data": {
      "text/plain": [
       "<AxesSubplot:xlabel='subject', ylabel='count'>"
      ]
     },
     "execution_count": 5,
     "metadata": {},
     "output_type": "execute_result"
    },
    {
     "data": {
      "image/png": "[encoded data removed]",
      "text/plain": [
       "<Figure size 864x360 with 1 Axes>"
      ]
     },
     "metadata": {
      "needs_background": "light"
     },
     "output_type": "display_data"
    }
   ],
   "source": [
    "plt.figure(figsize=(12, 5))\n",
    "sns.countplot(data=data, x='subject', hue='class')"
   ]
  },
  {
   "cell_type": "markdown",
   "metadata": {},
   "source": [
    "The subjects are not common for the fake and real news. <br>\n",
    "This feature is not useful for analysis/training."
   ]
  },
  {
   "cell_type": "code",
   "execution_count": 6,
   "metadata": {},
   "outputs": [
    {
     "data": {
      "text/plain": [
       "<seaborn.axisgrid.FacetGrid at 0x2961da183d0>"
      ]
     },
     "execution_count": 6,
     "metadata": {},
     "output_type": "execute_result"
    },
    {
     "data": {
      "image/png": "[encoded data removed]",
      "text/plain": [
       "<Figure size 942.375x360 with 1 Axes>"
      ]
     },
     "metadata": {
      "needs_background": "light"
     },
     "output_type": "display_data"
    }
   ],
   "source": [
    "data['text_len'] = data['text'].apply(lambda x: len(x))\n",
    "sns.displot(data, x=data['text_len'], hue='class', kind='kde', fill=True, height=5, aspect=2.5)"
   ]
  },
  {
   "cell_type": "markdown",
   "metadata": {},
   "source": [
    "There is no observable pattern between length of a news article and its authenticity."
   ]
  },
  {
   "cell_type": "code",
   "execution_count": 7,
   "metadata": {},
   "outputs": [
    {
     "data": {
      "text/html": [
       "<div>\n",
       "<style scoped>\n",
       "    .dataframe tbody tr th:only-of-type {\n",
       "        vertical-align: middle;\n",
       "    }\n",
       "\n",
       "    .dataframe tbody tr th {\n",
       "        vertical-align: top;\n",
       "    }\n",
       "\n",
       "    .dataframe thead th {\n",
       "        text-align: right;\n",
       "    }\n",
       "</style>\n",
       "<table border=\"1\" class=\"dataframe\">\n",
       "  <thead>\n",
       "    <tr style=\"text-align: right;\">\n",
       "      <th></th>\n",
       "      <th>title</th>\n",
       "      <th>text</th>\n",
       "      <th>subject</th>\n",
       "      <th>class</th>\n",
       "      <th>text_len</th>\n",
       "      <th>all_caps</th>\n",
       "    </tr>\n",
       "  </thead>\n",
       "  <tbody>\n",
       "    <tr>\n",
       "      <th>0</th>\n",
       "      <td>Timeline: Zika's origin and global spread</td>\n",
       "      <td>The following timeline charts the origin and s...</td>\n",
       "      <td>politicsNews</td>\n",
       "      <td>0</td>\n",
       "      <td>8664</td>\n",
       "      <td>0</td>\n",
       "    </tr>\n",
       "    <tr>\n",
       "      <th>1</th>\n",
       "      <td>Factbox: The race to the U.S. presidential nom...</td>\n",
       "      <td>(Reuters) - The nominating contests that will ...</td>\n",
       "      <td>politicsNews</td>\n",
       "      <td>0</td>\n",
       "      <td>5830</td>\n",
       "      <td>1</td>\n",
       "    </tr>\n",
       "    <tr>\n",
       "      <th>2</th>\n",
       "      <td>Senior national security official to leave Jus...</td>\n",
       "      <td>WASHINGTON (Reuters) - A senior U.S. Justice D...</td>\n",
       "      <td>politicsNews</td>\n",
       "      <td>0</td>\n",
       "      <td>3152</td>\n",
       "      <td>0</td>\n",
       "    </tr>\n",
       "    <tr>\n",
       "      <th>3</th>\n",
       "      <td>U.N. Report: Police Killings Of Black Men In ...</td>\n",
       "      <td>The epidemic of black men being killed at the ...</td>\n",
       "      <td>News</td>\n",
       "      <td>1</td>\n",
       "      <td>3276</td>\n",
       "      <td>2</td>\n",
       "    </tr>\n",
       "    <tr>\n",
       "      <th>4</th>\n",
       "      <td>Neil DeGrasse Tyson SCHOOLS Rapper B.O.B Over...</td>\n",
       "      <td>If you were not aware there is a seriously old...</td>\n",
       "      <td>News</td>\n",
       "      <td>1</td>\n",
       "      <td>3507</td>\n",
       "      <td>3</td>\n",
       "    </tr>\n",
       "    <tr>\n",
       "      <th>...</th>\n",
       "      <td>...</td>\n",
       "      <td>...</td>\n",
       "      <td>...</td>\n",
       "      <td>...</td>\n",
       "      <td>...</td>\n",
       "      <td>...</td>\n",
       "    </tr>\n",
       "    <tr>\n",
       "      <th>44893</th>\n",
       "      <td>NATIONAL SECURITY ALERT! Obama Administration ...</td>\n",
       "      <td>OUR GOVERNMENT IS GIVING OUT GREEN CARDS LIKE ...</td>\n",
       "      <td>politics</td>\n",
       "      <td>1</td>\n",
       "      <td>3232</td>\n",
       "      <td>3</td>\n",
       "    </tr>\n",
       "    <tr>\n",
       "      <th>44894</th>\n",
       "      <td>White House declines comment on Johnson Contro...</td>\n",
       "      <td>WASHINGTON (Reuters) - The White House on Wedn...</td>\n",
       "      <td>politicsNews</td>\n",
       "      <td>0</td>\n",
       "      <td>573</td>\n",
       "      <td>0</td>\n",
       "    </tr>\n",
       "    <tr>\n",
       "      <th>44895</th>\n",
       "      <td>HILLARY CONFIDANTE Asked If She’ll Run in 2020...</td>\n",
       "      <td>Stuart Varney asked Hillary friend and adviser...</td>\n",
       "      <td>politics</td>\n",
       "      <td>1</td>\n",
       "      <td>1319</td>\n",
       "      <td>2</td>\n",
       "    </tr>\n",
       "    <tr>\n",
       "      <th>44896</th>\n",
       "      <td>COVER UP: Sean Spicer Asked CIA And Top Repub...</td>\n",
       "      <td>There needs to be an independent commission an...</td>\n",
       "      <td>News</td>\n",
       "      <td>1</td>\n",
       "      <td>2961</td>\n",
       "      <td>3</td>\n",
       "    </tr>\n",
       "    <tr>\n",
       "      <th>44897</th>\n",
       "      <td>Federal judges question intent behind North Ca...</td>\n",
       "      <td>WASHINGTON (Reuters) - Federal appeals court j...</td>\n",
       "      <td>politicsNews</td>\n",
       "      <td>0</td>\n",
       "      <td>2601</td>\n",
       "      <td>0</td>\n",
       "    </tr>\n",
       "  </tbody>\n",
       "</table>\n",
       "<p>44898 rows × 6 columns</p>\n",
       "</div>"
      ],
      "text/plain": [
       "                                                   title  \\\n",
       "0              Timeline: Zika's origin and global spread   \n",
       "1      Factbox: The race to the U.S. presidential nom...   \n",
       "2      Senior national security official to leave Jus...   \n",
       "3       U.N. Report: Police Killings Of Black Men In ...   \n",
       "4       Neil DeGrasse Tyson SCHOOLS Rapper B.O.B Over...   \n",
       "...                                                  ...   \n",
       "44893  NATIONAL SECURITY ALERT! Obama Administration ...   \n",
       "44894  White House declines comment on Johnson Contro...   \n",
       "44895  HILLARY CONFIDANTE Asked If She’ll Run in 2020...   \n",
       "44896   COVER UP: Sean Spicer Asked CIA And Top Repub...   \n",
       "44897  Federal judges question intent behind North Ca...   \n",
       "\n",
       "                                                    text       subject  class  \\\n",
       "0      The following timeline charts the origin and s...  politicsNews      0   \n",
       "1      (Reuters) - The nominating contests that will ...  politicsNews      0   \n",
       "2      WASHINGTON (Reuters) - A senior U.S. Justice D...  politicsNews      0   \n",
       "3      The epidemic of black men being killed at the ...          News      1   \n",
       "4      If you were not aware there is a seriously old...          News      1   \n",
       "...                                                  ...           ...    ...   \n",
       "44893  OUR GOVERNMENT IS GIVING OUT GREEN CARDS LIKE ...      politics      1   \n",
       "44894  WASHINGTON (Reuters) - The White House on Wedn...  politicsNews      0   \n",
       "44895  Stuart Varney asked Hillary friend and adviser...      politics      1   \n",
       "44896  There needs to be an independent commission an...          News      1   \n",
       "44897  WASHINGTON (Reuters) - Federal appeals court j...  politicsNews      0   \n",
       "\n",
       "       text_len  all_caps  \n",
       "0          8664         0  \n",
       "1          5830         1  \n",
       "2          3152         0  \n",
       "3          3276         2  \n",
       "4          3507         3  \n",
       "...         ...       ...  \n",
       "44893      3232         3  \n",
       "44894       573         0  \n",
       "44895      1319         2  \n",
       "44896      2961         3  \n",
       "44897      2601         0  \n",
       "\n",
       "[44898 rows x 6 columns]"
      ]
     },
     "execution_count": 7,
     "metadata": {},
     "output_type": "execute_result"
    }
   ],
   "source": [
    "# adding feature to count all-caps words in title\n",
    "data['all_caps'] = data['title'].apply(lambda x: sum(map(str.isupper, x.split())))\n",
    "data"
   ]
  },
  {
   "cell_type": "code",
   "execution_count": 8,
   "metadata": {},
   "outputs": [
    {
     "data": {
      "text/plain": [
       "<seaborn.axisgrid.FacetGrid at 0x2961b0ca310>"
      ]
     },
     "execution_count": 8,
     "metadata": {},
     "output_type": "execute_result"
    },
    {
     "data": {
      "image/png": "[encoded data removed]",
      "text/plain": [
       "<Figure size 762.375x360 with 1 Axes>"
      ]
     },
     "metadata": {
      "needs_background": "light"
     },
     "output_type": "display_data"
    }
   ],
   "source": [
    "sns.displot(data=data, x=data['all_caps'], hue='class', height=5, aspect=2)"
   ]
  },
  {
   "cell_type": "markdown",
   "metadata": {},
   "source": [
    "**It is noticed that the greater the number of all-caps words present in the title, the more likely that the article is fake.**"
   ]
  },
  {
   "cell_type": "markdown",
   "metadata": {},
   "source": [
    "-----------------------------------------------\n",
    "## Cleaning text:"
   ]
  },
  {
   "cell_type": "markdown",
   "metadata": {},
   "source": [
    "Trying out neattext"
   ]
  },
  {
   "cell_type": "code",
   "execution_count": 10,
   "metadata": {},
   "outputs": [
    {
     "data": {
      "text/html": [
       "<div>\n",
       "<style scoped>\n",
       "    .dataframe tbody tr th:only-of-type {\n",
       "        vertical-align: middle;\n",
       "    }\n",
       "\n",
       "    .dataframe tbody tr th {\n",
       "        vertical-align: top;\n",
       "    }\n",
       "\n",
       "    .dataframe thead th {\n",
       "        text-align: right;\n",
       "    }\n",
       "</style>\n",
       "<table border=\"1\" class=\"dataframe\">\n",
       "  <thead>\n",
       "    <tr style=\"text-align: right;\">\n",
       "      <th></th>\n",
       "      <th>title</th>\n",
       "      <th>text</th>\n",
       "      <th>subject</th>\n",
       "      <th>class</th>\n",
       "      <th>text_len</th>\n",
       "      <th>all_caps</th>\n",
       "    </tr>\n",
       "  </thead>\n",
       "  <tbody>\n",
       "    <tr>\n",
       "      <th>0</th>\n",
       "      <td>secretary state trip asia</td>\n",
       "      <td>washington reuters secretary state rex tillers...</td>\n",
       "      <td>politicsNews</td>\n",
       "      <td>0</td>\n",
       "      <td>1647</td>\n",
       "      <td>1</td>\n",
       "    </tr>\n",
       "    <tr>\n",
       "      <th>1</th>\n",
       "      <td>obama commit felony sent million iran video</td>\n",
       "      <td>fox news senior judicial analyst judge andrew ...</td>\n",
       "      <td>Government News</td>\n",
       "      <td>1</td>\n",
       "      <td>138</td>\n",
       "      <td>5</td>\n",
       "    </tr>\n",
       "    <tr>\n",
       "      <th>2</th>\n",
       "      <td>cranky socialist bernie sanders temper tantrum...</td>\n",
       "      <td>grouch bernie sanders bad day maybe realized s...</td>\n",
       "      <td>politics</td>\n",
       "      <td>1</td>\n",
       "      <td>110</td>\n",
       "      <td>8</td>\n",
       "    </tr>\n",
       "    <tr>\n",
       "      <th>3</th>\n",
       "      <td>clinton leads trump percent white house race w...</td>\n",
       "      <td>washington reuters democratic presidential nom...</td>\n",
       "      <td>politicsNews</td>\n",
       "      <td>0</td>\n",
       "      <td>573</td>\n",
       "      <td>0</td>\n",
       "    </tr>\n",
       "    <tr>\n",
       "      <th>4</th>\n",
       "      <td>chinas highestprofile fugitive assailed busine...</td>\n",
       "      <td>beijing reuters china highest profile fugitive...</td>\n",
       "      <td>worldnews</td>\n",
       "      <td>0</td>\n",
       "      <td>3801</td>\n",
       "      <td>0</td>\n",
       "    </tr>\n",
       "    <tr>\n",
       "      <th>...</th>\n",
       "      <td>...</td>\n",
       "      <td>...</td>\n",
       "      <td>...</td>\n",
       "      <td>...</td>\n",
       "      <td>...</td>\n",
       "      <td>...</td>\n",
       "    </tr>\n",
       "    <tr>\n",
       "      <th>44893</th>\n",
       "      <td>watch elizabeth warren destroy donald trump ep...</td>\n",
       "      <td>senator elizabeth warren dma lit republican pr...</td>\n",
       "      <td>News</td>\n",
       "      <td>1</td>\n",
       "      <td>3275</td>\n",
       "      <td>2</td>\n",
       "    </tr>\n",
       "    <tr>\n",
       "      <th>44894</th>\n",
       "      <td>trump mocked inventing fake civil war battle g...</td>\n",
       "      <td>frederick douglass andrew jackson disappointed...</td>\n",
       "      <td>News</td>\n",
       "      <td>1</td>\n",
       "      <td>4472</td>\n",
       "      <td>2</td>\n",
       "    </tr>\n",
       "    <tr>\n",
       "      <th>44895</th>\n",
       "      <td>internet living great firewall china</td>\n",
       "      <td>reuters great firewall china world extensive e...</td>\n",
       "      <td>worldnews</td>\n",
       "      <td>0</td>\n",
       "      <td>2456</td>\n",
       "      <td>1</td>\n",
       "    </tr>\n",
       "    <tr>\n",
       "      <th>44896</th>\n",
       "      <td>exclusive pursues direct diplomacy north korea...</td>\n",
       "      <td>washington reuters united states quietly pursu...</td>\n",
       "      <td>worldnews</td>\n",
       "      <td>0</td>\n",
       "      <td>5397</td>\n",
       "      <td>1</td>\n",
       "    </tr>\n",
       "    <tr>\n",
       "      <th>44897</th>\n",
       "      <td>republican signaling shift says money needed z...</td>\n",
       "      <td>washington reuters senior house representative...</td>\n",
       "      <td>politicsNews</td>\n",
       "      <td>0</td>\n",
       "      <td>3041</td>\n",
       "      <td>0</td>\n",
       "    </tr>\n",
       "  </tbody>\n",
       "</table>\n",
       "<p>44898 rows × 6 columns</p>\n",
       "</div>"
      ],
      "text/plain": [
       "                                                   title  \\\n",
       "0                              secretary state trip asia   \n",
       "1            obama commit felony sent million iran video   \n",
       "2      cranky socialist bernie sanders temper tantrum...   \n",
       "3      clinton leads trump percent white house race w...   \n",
       "4      chinas highestprofile fugitive assailed busine...   \n",
       "...                                                  ...   \n",
       "44893  watch elizabeth warren destroy donald trump ep...   \n",
       "44894  trump mocked inventing fake civil war battle g...   \n",
       "44895               internet living great firewall china   \n",
       "44896  exclusive pursues direct diplomacy north korea...   \n",
       "44897  republican signaling shift says money needed z...   \n",
       "\n",
       "                                                    text          subject  \\\n",
       "0      washington reuters secretary state rex tillers...     politicsNews   \n",
       "1      fox news senior judicial analyst judge andrew ...  Government News   \n",
       "2      grouch bernie sanders bad day maybe realized s...         politics   \n",
       "3      washington reuters democratic presidential nom...     politicsNews   \n",
       "4      beijing reuters china highest profile fugitive...        worldnews   \n",
       "...                                                  ...              ...   \n",
       "44893  senator elizabeth warren dma lit republican pr...             News   \n",
       "44894  frederick douglass andrew jackson disappointed...             News   \n",
       "44895  reuters great firewall china world extensive e...        worldnews   \n",
       "44896  washington reuters united states quietly pursu...        worldnews   \n",
       "44897  washington reuters senior house representative...     politicsNews   \n",
       "\n",
       "       class  text_len  all_caps  \n",
       "0          0      1647         1  \n",
       "1          1       138         5  \n",
       "2          1       110         8  \n",
       "3          0       573         0  \n",
       "4          0      3801         0  \n",
       "...      ...       ...       ...  \n",
       "44893      1      3275         2  \n",
       "44894      1      4472         2  \n",
       "44895      0      2456         1  \n",
       "44896      0      5397         1  \n",
       "44897      0      3041         0  \n",
       "\n",
       "[44898 rows x 6 columns]"
      ]
     },
     "execution_count": 10,
     "metadata": {},
     "output_type": "execute_result"
    }
   ],
   "source": [
    "# cleaning text to remove dates,urls,tags,puncts etc\n",
    "def clean_text(text):\n",
    "    \n",
    "    text = text.lower()\n",
    "    doc = nt.TextFrame(text)\n",
    "    # processes are clear\n",
    "    doc.remove_dates()\n",
    "    doc.remove_urls()\n",
    "    doc.remove_emails()\n",
    "    doc.remove_numbers()\n",
    "    doc.remove_special_characters()\n",
    "    doc.remove_puncts()\n",
    "    doc.remove_stopwords()\n",
    "    \n",
    "    return doc.text\n",
    "\n",
    "\n",
    "data['title'] = data['title'].apply(lambda x: clean_text(x))\n",
    "data['text'] = data['text'].apply(lambda x: clean_text(x))\n",
    "data"
   ]
  },
  {
   "cell_type": "markdown",
   "metadata": {},
   "source": [
    "-----------------------------------------------------------\n",
    "## Lemmatizing text"
   ]
  },
  {
   "cell_type": "code",
   "execution_count": 11,
   "metadata": {},
   "outputs": [
    {
     "data": {
      "text/html": [
       "<div>\n",
       "<style scoped>\n",
       "    .dataframe tbody tr th:only-of-type {\n",
       "        vertical-align: middle;\n",
       "    }\n",
       "\n",
       "    .dataframe tbody tr th {\n",
       "        vertical-align: top;\n",
       "    }\n",
       "\n",
       "    .dataframe thead th {\n",
       "        text-align: right;\n",
       "    }\n",
       "</style>\n",
       "<table border=\"1\" class=\"dataframe\">\n",
       "  <thead>\n",
       "    <tr style=\"text-align: right;\">\n",
       "      <th></th>\n",
       "      <th>title</th>\n",
       "      <th>text</th>\n",
       "      <th>subject</th>\n",
       "      <th>class</th>\n",
       "      <th>text_len</th>\n",
       "      <th>all_caps</th>\n",
       "    </tr>\n",
       "  </thead>\n",
       "  <tbody>\n",
       "    <tr>\n",
       "      <th>0</th>\n",
       "      <td>secretary state trip asia</td>\n",
       "      <td>washington reuter secretary state rex tillerso...</td>\n",
       "      <td>politicsNews</td>\n",
       "      <td>0</td>\n",
       "      <td>1647</td>\n",
       "      <td>1</td>\n",
       "    </tr>\n",
       "    <tr>\n",
       "      <th>1</th>\n",
       "      <td>obama commit felony send million iran video</td>\n",
       "      <td>fox news senior judicial analyst judge andrew ...</td>\n",
       "      <td>Government News</td>\n",
       "      <td>1</td>\n",
       "      <td>138</td>\n",
       "      <td>5</td>\n",
       "    </tr>\n",
       "    <tr>\n",
       "      <th>2</th>\n",
       "      <td>cranky socialist bernie sander temper tantrum ...</td>\n",
       "      <td>grouch bernie sander bad day maybe realize she...</td>\n",
       "      <td>politics</td>\n",
       "      <td>1</td>\n",
       "      <td>110</td>\n",
       "      <td>8</td>\n",
       "    </tr>\n",
       "    <tr>\n",
       "      <th>3</th>\n",
       "      <td>clinton lead trump percent white house race wa...</td>\n",
       "      <td>washington reuter democratic presidential nomi...</td>\n",
       "      <td>politicsNews</td>\n",
       "      <td>0</td>\n",
       "      <td>573</td>\n",
       "      <td>0</td>\n",
       "    </tr>\n",
       "    <tr>\n",
       "      <th>4</th>\n",
       "      <td>china highestprofile fugitive assail businessm...</td>\n",
       "      <td>beijing reuter china high profile fugitive exi...</td>\n",
       "      <td>worldnews</td>\n",
       "      <td>0</td>\n",
       "      <td>3801</td>\n",
       "      <td>0</td>\n",
       "    </tr>\n",
       "    <tr>\n",
       "      <th>...</th>\n",
       "      <td>...</td>\n",
       "      <td>...</td>\n",
       "      <td>...</td>\n",
       "      <td>...</td>\n",
       "      <td>...</td>\n",
       "      <td>...</td>\n",
       "    </tr>\n",
       "    <tr>\n",
       "      <th>44893</th>\n",
       "      <td>watch elizabeth warren destroy donald trump ep...</td>\n",
       "      <td>senator elizabeth warren dma light republican ...</td>\n",
       "      <td>News</td>\n",
       "      <td>1</td>\n",
       "      <td>3275</td>\n",
       "      <td>2</td>\n",
       "    </tr>\n",
       "    <tr>\n",
       "      <th>44894</th>\n",
       "      <td>trump mock invent fake civil war battle golf c...</td>\n",
       "      <td>frederick douglass andrew jackson disappoint d...</td>\n",
       "      <td>News</td>\n",
       "      <td>1</td>\n",
       "      <td>4472</td>\n",
       "      <td>2</td>\n",
       "    </tr>\n",
       "    <tr>\n",
       "      <th>44895</th>\n",
       "      <td>internet live great firewall china</td>\n",
       "      <td>reuter great firewall china world extensive ef...</td>\n",
       "      <td>worldnews</td>\n",
       "      <td>0</td>\n",
       "      <td>2456</td>\n",
       "      <td>1</td>\n",
       "    </tr>\n",
       "    <tr>\n",
       "      <th>44896</th>\n",
       "      <td>exclusive pursue direct diplomacy north korea ...</td>\n",
       "      <td>washington reuter united state quietly pursue ...</td>\n",
       "      <td>worldnews</td>\n",
       "      <td>0</td>\n",
       "      <td>5397</td>\n",
       "      <td>1</td>\n",
       "    </tr>\n",
       "    <tr>\n",
       "      <th>44897</th>\n",
       "      <td>republican signaling shift say money need zika...</td>\n",
       "      <td>washington reuter senior house representative ...</td>\n",
       "      <td>politicsNews</td>\n",
       "      <td>0</td>\n",
       "      <td>3041</td>\n",
       "      <td>0</td>\n",
       "    </tr>\n",
       "  </tbody>\n",
       "</table>\n",
       "<p>44898 rows × 6 columns</p>\n",
       "</div>"
      ],
      "text/plain": [
       "                                                   title  \\\n",
       "0                              secretary state trip asia   \n",
       "1            obama commit felony send million iran video   \n",
       "2      cranky socialist bernie sander temper tantrum ...   \n",
       "3      clinton lead trump percent white house race wa...   \n",
       "4      china highestprofile fugitive assail businessm...   \n",
       "...                                                  ...   \n",
       "44893  watch elizabeth warren destroy donald trump ep...   \n",
       "44894  trump mock invent fake civil war battle golf c...   \n",
       "44895                 internet live great firewall china   \n",
       "44896  exclusive pursue direct diplomacy north korea ...   \n",
       "44897  republican signaling shift say money need zika...   \n",
       "\n",
       "                                                    text          subject  \\\n",
       "0      washington reuter secretary state rex tillerso...     politicsNews   \n",
       "1      fox news senior judicial analyst judge andrew ...  Government News   \n",
       "2      grouch bernie sander bad day maybe realize she...         politics   \n",
       "3      washington reuter democratic presidential nomi...     politicsNews   \n",
       "4      beijing reuter china high profile fugitive exi...        worldnews   \n",
       "...                                                  ...              ...   \n",
       "44893  senator elizabeth warren dma light republican ...             News   \n",
       "44894  frederick douglass andrew jackson disappoint d...             News   \n",
       "44895  reuter great firewall china world extensive ef...        worldnews   \n",
       "44896  washington reuter united state quietly pursue ...        worldnews   \n",
       "44897  washington reuter senior house representative ...     politicsNews   \n",
       "\n",
       "       class  text_len  all_caps  \n",
       "0          0      1647         1  \n",
       "1          1       138         5  \n",
       "2          1       110         8  \n",
       "3          0       573         0  \n",
       "4          0      3801         0  \n",
       "...      ...       ...       ...  \n",
       "44893      1      3275         2  \n",
       "44894      1      4472         2  \n",
       "44895      0      2456         1  \n",
       "44896      0      5397         1  \n",
       "44897      0      3041         0  \n",
       "\n",
       "[44898 rows x 6 columns]"
      ]
     },
     "execution_count": 11,
     "metadata": {},
     "output_type": "execute_result"
    }
   ],
   "source": [
    "# replacing words with their lemma \n",
    "def lemmatize(text):\n",
    "    \n",
    "    doc = nlp(text)\n",
    "    text_lemma = ' '.join(token.lemma_ for token in doc)\n",
    "    text_lemma.replace('-PRON-','')\n",
    "    \n",
    "    return text_lemma\n",
    "\n",
    "\n",
    "nlp = spacy.load('en_core_web_sm')\n",
    "data['title'] = data['title'].apply(lambda x: lemmatize(x))\n",
    "data['text'] = data['text'].apply(lambda x: lemmatize(x))\n",
    "data"
   ]
  },
  {
   "cell_type": "code",
   "execution_count": 100,
   "metadata": {},
   "outputs": [],
   "source": [
    "#data.to_csv('datasets/news-lemmatized.csv',index=False)\n",
    "data = pd.read_csv('datasets/news-lemmatized.csv')"
   ]
  },
  {
   "cell_type": "code",
   "execution_count": 114,
   "metadata": {},
   "outputs": [],
   "source": [
    "# adding 'join' which has 'text' and 'title'\n",
    "data['join'] = data['title']+' '+data['text']\n",
    "\n",
    "# drop rows with null values\n",
    "data = data.dropna()\n",
    "\n",
    "Y = data['class']\n",
    "X = data['join']"
   ]
  },
  {
   "cell_type": "markdown",
   "metadata": {},
   "source": [
    "### Train/test split of data"
   ]
  },
  {
   "cell_type": "code",
   "execution_count": 104,
   "metadata": {},
   "outputs": [
    {
     "name": "stdout",
     "output_type": "stream",
     "text": [
      "(33136,) (11046,)\n"
     ]
    }
   ],
   "source": [
    "x_train, x_val, y_train, y_val = train_test_split(X,Y, test_size=0.25, random_state=42)\n",
    "print(x_train.shape,x_val.shape)"
   ]
  },
  {
   "cell_type": "code",
   "execution_count": 105,
   "metadata": {
    "scrolled": false
   },
   "outputs": [
    {
     "data": {
      "text/plain": [
       "30002    venezuela talk resume january government oppos...\n",
       "18513    joe scarborough republican video joe scarborou...\n",
       "5035     russia move shelter bank fund arm maker sancti...\n",
       "36241    trump muslim comment tarnish view freedom abro...\n",
       "20443    queen brian do nt want music trump unsavory ca...\n",
       "                               ...                        \n",
       "6368     marvel vow boycott georgia discriminatory reli...\n",
       "11467    german party nato want good tie russia documen...\n",
       "38769    german industry say vulnerable russia sanction...\n",
       "874      mindboggle sexist racist reason clint eastwood...\n",
       "16051    clinton say rely state staff classification de...\n",
       "Name: join, Length: 33136, dtype: object"
      ]
     },
     "execution_count": 105,
     "metadata": {},
     "output_type": "execute_result"
    }
   ],
   "source": [
    "x_train"
   ]
  },
  {
   "cell_type": "markdown",
   "metadata": {},
   "source": [
    "------------------------\n",
    "## Models"
   ]
  },
  {
   "cell_type": "code",
   "execution_count": 106,
   "metadata": {},
   "outputs": [],
   "source": [
    "from sklearn.naive_bayes import MultinomialNB\n",
    "from sklearn.linear_model import SGDClassifier\n",
    "from sklearn.feature_extraction.text import CountVectorizer, TfidfVectorizer\n",
    "from sklearn.pipeline import Pipeline\n",
    "from sklearn.model_selection import GridSearchCV\n",
    "from sklearn.metrics import confusion_matrix, classification_report\n",
    "from sklearn.svm import SVC"
   ]
  },
  {
   "cell_type": "markdown",
   "metadata": {},
   "source": [
    "### CountV, Naive Bayes"
   ]
  },
  {
   "cell_type": "code",
   "execution_count": 107,
   "metadata": {},
   "outputs": [],
   "source": [
    "# creating pipeline\n",
    "pipeCountV = Pipeline([('cv', CountVectorizer()), ('nb', MultinomialNB(alpha=0.1))])\n",
    "param_grid_cv = {\n",
    "    'cv__ngram_range': [(1,1), (1,2), (1,3)]\n",
    "}"
   ]
  },
  {
   "cell_type": "code",
   "execution_count": 15,
   "metadata": {},
   "outputs": [
    {
     "name": "stdout",
     "output_type": "stream",
     "text": [
      "Best Score (CV): 97.53441167463001 %\n",
      "Best Parameters (CV): {'cv__ngram_range': (1, 3)}\n"
     ]
    }
   ],
   "source": [
    "# using grid search cv\n",
    "CvSearch = GridSearchCV(pipeCountV, param_grid_cv)\n",
    "CvSearch.fit(x_train, y_train)\n",
    "\n",
    "print(f\"Best Score (CV): {CvSearch.best_score_*100} %\")\n",
    "print(f\"Best Parameters (CV): {CvSearch.best_params_}\")"
   ]
  },
  {
   "cell_type": "code",
   "execution_count": 16,
   "metadata": {},
   "outputs": [
    {
     "name": "stdout",
     "output_type": "stream",
     "text": [
      "              precision    recall  f1-score   support\n",
      "\n",
      "           0       0.97      0.99      0.98      5446\n",
      "           1       0.99      0.97      0.98      5600\n",
      "\n",
      "    accuracy                           0.98     11046\n",
      "   macro avg       0.98      0.98      0.98     11046\n",
      "weighted avg       0.98      0.98      0.98     11046\n",
      "\n"
     ]
    },
    {
     "data": {
      "image/png": "[encoded data removed]",
      "text/plain": [
       "<Figure size 720x576 with 2 Axes>"
      ]
     },
     "metadata": {
      "needs_background": "light"
     },
     "output_type": "display_data"
    }
   ],
   "source": [
    "# predict\n",
    "CvPredicts = CvSearch.predict(x_val)\n",
    "\n",
    "# displaying confusion matrix\n",
    "plt.figure(figsize=(10,8))\n",
    "sns.heatmap(confusion_matrix(y_val, CvPredicts), annot=True, cmap='Blues', fmt='d')\n",
    "\n",
    "# stats:\n",
    "print(classification_report(y_val, CvPredicts))"
   ]
  },
  {
   "cell_type": "markdown",
   "metadata": {},
   "source": [
    "This model gives a good result. <br>\n",
    ">~98% accuracy, f1 score"
   ]
  },
  {
   "cell_type": "markdown",
   "metadata": {},
   "source": [
    "### TfidfV, Naive Bayes"
   ]
  },
  {
   "cell_type": "code",
   "execution_count": 16,
   "metadata": {},
   "outputs": [],
   "source": [
    "# creating pipeline\n",
    "pipeTfidfV =  Pipeline([('tfidf', TfidfVectorizer()), ('nb', MultinomialNB())])\n",
    "param_grid_tfidf = {\n",
    "    'tfidf__ngram_range': [(1,1), (1,2), (1,3)]\n",
    "}"
   ]
  },
  {
   "cell_type": "code",
   "execution_count": 17,
   "metadata": {},
   "outputs": [
    {
     "name": "stdout",
     "output_type": "stream",
     "text": [
      "Best Training Score (tfidf): 96.13933348899941 %\n",
      "Best Parameters (tfidf): {'tfidf__ngram_range': (1, 3)}\n"
     ]
    }
   ],
   "source": [
    "# using grid search cv\n",
    "TfidfSearch = GridSearchCV(pipeTfidfV, param_grid_tfidf)\n",
    "TfidfSearch.fit(x_train, y_train)\n",
    "\n",
    "print(f\"Best Training Score (tfidf): {TfidfSearch.best_score_*100} %\")\n",
    "print(f\"Best Parameters (tfidf): {TfidfSearch.best_params_}\")"
   ]
  },
  {
   "cell_type": "code",
   "execution_count": 18,
   "metadata": {},
   "outputs": [
    {
     "name": "stdout",
     "output_type": "stream",
     "text": [
      "              precision    recall  f1-score   support\n",
      "\n",
      "           0       0.96      0.97      0.96      5325\n",
      "           1       0.97      0.96      0.97      5900\n",
      "\n",
      "    accuracy                           0.97     11225\n",
      "   macro avg       0.97      0.97      0.97     11225\n",
      "weighted avg       0.97      0.97      0.97     11225\n",
      "\n"
     ]
    },
    {
     "data": {
      "image/png": "[encoded data removed]",
      "text/plain": [
       "<Figure size 720x576 with 2 Axes>"
      ]
     },
     "metadata": {
      "needs_background": "light"
     },
     "output_type": "display_data"
    }
   ],
   "source": [
    "# predict\n",
    "tfidfPredicts = TfidfSearch.predict(x_val)\n",
    "\n",
    "# displaying confusion matrix\n",
    "plt.figure(figsize=(10,8))\n",
    "sns.heatmap(confusion_matrix(y_val, tfidfPredicts), annot=True, cmap='Blues', fmt='d')\n",
    "\n",
    "# stats:\n",
    "print(classification_report(y_val, tfidfPredicts))"
   ]
  },
  {
   "cell_type": "markdown",
   "metadata": {},
   "source": [
    "Though the model is accurate, not as good as using CountVectorizer <br>\n",
    ">~97% accuracy, f1 score"
   ]
  },
  {
   "cell_type": "markdown",
   "metadata": {},
   "source": [
    "### CountV, LinearSVC"
   ]
  },
  {
   "cell_type": "code",
   "execution_count": 108,
   "metadata": {},
   "outputs": [],
   "source": [
    "# creating pipeline\n",
    "pipeCountV = Pipeline([('cv', CountVectorizer()), ('svm', LinearSVC(max_iter=10000, C=0.01))])\n",
    "param_grid_cv = {\n",
    "    'cv__ngram_range': [(1,1), (1,2), (1,3)]\n",
    "}"
   ]
  },
  {
   "cell_type": "code",
   "execution_count": 109,
   "metadata": {},
   "outputs": [
    {
     "name": "stdout",
     "output_type": "stream",
     "text": [
      "Best Score (CV): 99.57749788064572 %\n",
      "Best Parameters (CV): {'cv__ngram_range': (1, 2)}\n"
     ]
    }
   ],
   "source": [
    "# using grid search cv\n",
    "CvSearch = GridSearchCV(pipeCountV, param_grid_cv)\n",
    "CvSearch.fit(x_train, y_train)\n",
    "\n",
    "print(f\"Best Score (CV): {CvSearch.best_score_*100} %\")\n",
    "print(f\"Best Parameters (CV): {CvSearch.best_params_}\")"
   ]
  },
  {
   "cell_type": "code",
   "execution_count": 111,
   "metadata": {},
   "outputs": [
    {
     "name": "stdout",
     "output_type": "stream",
     "text": [
      "              precision    recall  f1-score   support\n",
      "\n",
      "           0     0.9952    0.9963    0.9958      5446\n",
      "           1     0.9964    0.9954    0.9959      5600\n",
      "\n",
      "    accuracy                         0.9958     11046\n",
      "   macro avg     0.9958    0.9958    0.9958     11046\n",
      "weighted avg     0.9958    0.9958    0.9958     11046\n",
      "\n"
     ]
    },
    {
     "data": {
      "image/png": "[encoded data removed]",
      "text/plain": [
       "<Figure size 720x576 with 2 Axes>"
      ]
     },
     "metadata": {
      "needs_background": "light"
     },
     "output_type": "display_data"
    }
   ],
   "source": [
    "# predict\n",
    "CvPredicts = CvSearch.predict(x_val)\n",
    "\n",
    "# displaying confusion matrix\n",
    "plt.figure(figsize=(10,8))\n",
    "sns.heatmap(confusion_matrix(y_val, CvPredicts), annot=True, cmap='Blues', fmt='d')\n",
    "\n",
    "# stats:\n",
    "print(classification_report(y_val, CvPredicts, digits=4))"
   ]
  },
  {
   "cell_type": "markdown",
   "metadata": {},
   "source": [
    "LinearSVC gives the best result. <br>\n",
    ">99.58% accuracy <br>\n",
    ">99.59% f1 score"
   ]
  },
  {
   "cell_type": "markdown",
   "metadata": {},
   "source": [
    "### W2V, LSTM"
   ]
  },
  {
   "cell_type": "code",
   "execution_count": 15,
   "metadata": {},
   "outputs": [
    {
     "name": "stderr",
     "output_type": "stream",
     "text": [
      "C:\\Users\\Rajamohan\\anaconda3\\envs\\nlpenv2\\lib\\site-packages\\gensim\\similarities\\__init__.py:15: UserWarning: The gensim.similarities.levenshtein submodule is disabled, because the optional Levenshtein package <https://pypi.org/project/python-Levenshtein/> is unavailable. Install Levenhstein (e.g. `pip install python-Levenshtein`) to suppress this warning.\n",
      "  warnings.warn(msg)\n"
     ]
    }
   ],
   "source": [
    "import gensim\n",
    "from keras.preprocessing.text import Tokenizer\n",
    "from keras.preprocessing.sequence import pad_sequences\n",
    "from keras.models import Sequential\n",
    "from keras.layers import Embedding, Activation, Dense, Dropout, Flatten, Conv1D, MaxPooling1D, LSTM\n",
    "from keras.callbacks import ReduceLROnPlateau, EarlyStopping"
   ]
  },
  {
   "cell_type": "code",
   "execution_count": 19,
   "metadata": {},
   "outputs": [
    {
     "name": "stderr",
     "output_type": "stream",
     "text": [
      "C:\\Users\\Rajamohan\\anaconda3\\envs\\nlpenv2\\lib\\site-packages\\gensim\\similarities\\__init__.py:15: UserWarning: The gensim.similarities.levenshtein submodule is disabled, because the optional Levenshtein package <https://pypi.org/project/python-Levenshtein/> is unavailable. Install Levenhstein (e.g. `pip install python-Levenshtein`) to suppress this warning.\n",
      "  warnings.warn(msg)\n"
     ]
    },
    {
     "name": "stdout",
     "output_type": "stream",
     "text": [
      "Vocab size 23667\n"
     ]
    },
    {
     "data": {
      "text/plain": [
       "(217709068, 234529824)"
      ]
     },
     "execution_count": 19,
     "metadata": {},
     "output_type": "execute_result"
    }
   ],
   "source": [
    "# list of words\n",
    "docs = [text.split() for text in x_train] \n",
    "\n",
    "# params\n",
    "w2v_size = 200\n",
    "w2v_window = 7\n",
    "w2v_epoch = 32\n",
    "w2v_min_count = 10\n",
    "\n",
    "w2v_model = gensim.models.word2vec.Word2Vec(vector_size=w2v_size,window=w2v_window,min_count=w2v_min_count,workers=8)\n",
    "w2v_model.build_vocab(docs)\n",
    "\n",
    "vocab_len = len(w2v_model.wv)\n",
    "print(\"Vocab size\", vocab_len)\n",
    "\n",
    "w2v_model.train(docs, total_examples=len(docs), epochs=w2v_epoch)"
   ]
  },
  {
   "cell_type": "code",
   "execution_count": 20,
   "metadata": {},
   "outputs": [],
   "source": [
    "tokenizer = Tokenizer()\n",
    "tokenizer.fit_on_texts(x_train)\n",
    "\n",
    "vocab_size = len(tokenizer.word_index) + 1"
   ]
  },
  {
   "cell_type": "code",
   "execution_count": 21,
   "metadata": {},
   "outputs": [],
   "source": [
    "# maxlen param\n",
    "sequence_len = 100\n",
    "\n",
    "# pad sequencing to ensure same length\n",
    "x_train = pad_sequences(tokenizer.texts_to_sequences(x_train), maxlen=sequence_len)\n",
    "x_val = pad_sequences(tokenizer.texts_to_sequences(x_val), maxlen=sequence_len)"
   ]
  },
  {
   "cell_type": "code",
   "execution_count": 22,
   "metadata": {},
   "outputs": [
    {
     "name": "stdout",
     "output_type": "stream",
     "text": [
      "(171026, 200)\n"
     ]
    }
   ],
   "source": [
    "# creating the embedding matrix\n",
    "embedding_matrix = np.zeros((vocab_size, w2v_size))\n",
    "for word, i in tokenizer.word_index.items():\n",
    "    if word in w2v_model.wv:\n",
    "        embedding_matrix[i] = w2v_model.wv[word]\n",
    "print(embedding_matrix.shape)\n",
    "\n",
    "embedding_layer = Embedding(vocab_size, w2v_size, weights=[embedding_matrix], input_length=sequence_len, trainable=False)"
   ]
  },
  {
   "cell_type": "code",
   "execution_count": 23,
   "metadata": {},
   "outputs": [
    {
     "name": "stdout",
     "output_type": "stream",
     "text": [
      "Model: \"sequential\"\n",
      "_________________________________________________________________\n",
      "Layer (type)                 Output Shape              Param #   \n",
      "=================================================================\n",
      "embedding (Embedding)        (None, 100, 200)          34205200  \n",
      "_________________________________________________________________\n",
      "dropout (Dropout)            (None, 100, 200)          0         \n",
      "_________________________________________________________________\n",
      "lstm (LSTM)                  (None, 100)               120400    \n",
      "_________________________________________________________________\n",
      "dense (Dense)                (None, 1)                 101       \n",
      "=================================================================\n",
      "Total params: 34,325,701\n",
      "Trainable params: 120,501\n",
      "Non-trainable params: 34,205,200\n",
      "_________________________________________________________________\n",
      "None\n"
     ]
    }
   ],
   "source": [
    "# using LSTM model\n",
    "model = Sequential()\n",
    "model.add(embedding_layer)\n",
    "model.add(Dropout(0.5))\n",
    "model.add(LSTM(100, dropout=0.2, recurrent_dropout=0.2))\n",
    "model.add(Dense(1, activation='sigmoid'))\n",
    "\n",
    "print(model.summary())\n",
    "model.compile(loss='binary_crossentropy',optimizer=\"adam\",metrics=['accuracy'])"
   ]
  },
  {
   "cell_type": "code",
   "execution_count": 24,
   "metadata": {},
   "outputs": [],
   "source": [
    "# callbacks\n",
    "lr = ReduceLROnPlateau(monitor='val_loss', patience=5, cooldown=0)\n",
    "es = EarlyStopping(monitor='val_accuracy', min_delta=1e-4, patience=5)\n",
    "\n",
    "callbacks = [lr,es]"
   ]
  },
  {
   "cell_type": "code",
   "execution_count": 25,
   "metadata": {},
   "outputs": [
    {
     "name": "stdout",
     "output_type": "stream",
     "text": [
      "Epoch 1/10\n",
      "27/27 [==============================] - 99s 3s/step - loss: 0.5049 - accuracy: 0.7539 - val_loss: 0.2527 - val_accuracy: 0.9029\n",
      "Epoch 2/10\n",
      "27/27 [==============================] - 88s 3s/step - loss: 0.2519 - accuracy: 0.8973 - val_loss: 0.2399 - val_accuracy: 0.9351\n",
      "Epoch 3/10\n",
      "27/27 [==============================] - 105s 4s/step - loss: 0.1814 - accuracy: 0.9315 - val_loss: 0.3834 - val_accuracy: 0.8927\n",
      "Epoch 4/10\n",
      "27/27 [==============================] - 100s 4s/step - loss: 0.1362 - accuracy: 0.9505 - val_loss: 0.2944 - val_accuracy: 0.9131\n",
      "Epoch 5/10\n",
      "27/27 [==============================] - 96s 4s/step - loss: 0.1226 - accuracy: 0.9557 - val_loss: 0.3300 - val_accuracy: 0.9109\n",
      "Epoch 6/10\n",
      "27/27 [==============================] - 98s 4s/step - loss: 0.1105 - accuracy: 0.9602 - val_loss: 0.3087 - val_accuracy: 0.9210\n",
      "Epoch 7/10\n",
      "27/27 [==============================] - 108s 4s/step - loss: 0.0975 - accuracy: 0.9641 - val_loss: 0.2703 - val_accuracy: 0.9287\n"
     ]
    }
   ],
   "source": [
    "epochs = 10\n",
    "batch_size = 1024\n",
    "\n",
    "history = model.fit(x_train, y_train,batch_size=batch_size,epochs=epochs,validation_split=0.2,verbose=1,callbacks=callbacks)"
   ]
  },
  {
   "cell_type": "code",
   "execution_count": 26,
   "metadata": {},
   "outputs": [
    {
     "name": "stdout",
     "output_type": "stream",
     "text": [
      "11/11 [==============================] - 5s 477ms/step - loss: 0.2514 - accuracy: 0.9316\n",
      "\n",
      "acc: 0.9315813183784485\n",
      "loss: 0.25142723321914673\n"
     ]
    }
   ],
   "source": [
    "score = model.evaluate(x_val, y_val, batch_size=batch_size)\n",
    "print()\n",
    "print(\"acc:\",score[1])\n",
    "print(\"loss:\",score[0])"
   ]
  },
  {
   "cell_type": "code",
   "execution_count": 27,
   "metadata": {},
   "outputs": [],
   "source": [
    "# decoding sentiment\n",
    "def decode_sent(scores,threshold):\n",
    "    score_lst = []\n",
    "    for i in scores:\n",
    "        if i[0] < threshold:\n",
    "            score_lst.append(0)\n",
    "        else:\n",
    "            score_lst.append(1)\n",
    "    return score_lst"
   ]
  },
  {
   "cell_type": "code",
   "execution_count": 28,
   "metadata": {},
   "outputs": [
    {
     "name": "stdout",
     "output_type": "stream",
     "text": [
      "113/113 [==============================] - 13s 73ms/step\n",
      "              precision    recall  f1-score   support\n",
      "\n",
      "           0       0.98      0.87      0.92      5325\n",
      "           1       0.89      0.98      0.94      5900\n",
      "\n",
      "    accuracy                           0.93     11225\n",
      "   macro avg       0.94      0.93      0.93     11225\n",
      "weighted avg       0.94      0.93      0.93     11225\n",
      "\n"
     ]
    },
    {
     "data": {
      "image/png": "[encoded data removed]",
      "text/plain": [
       "<Figure size 720x576 with 2 Axes>"
      ]
     },
     "metadata": {
      "needs_background": "light"
     },
     "output_type": "display_data"
    }
   ],
   "source": [
    "# using prediction of validation set\n",
    "y_pred = model.predict(x_val, batch_size=100, verbose=1)\n",
    "y_pred_lst = decode_sent(y_pred,0.2)\n",
    "\n",
    "plt.figure(figsize=(10,8))\n",
    "sns.heatmap(confusion_matrix(y_val, y_pred_lst), annot=True, cmap='Blues', fmt='d')\n",
    "\n",
    "# f1-score and other scores:\n",
    "print(classification_report(y_val, y_pred_lst))\n"
   ]
  },
  {
   "cell_type": "markdown",
   "metadata": {},
   "source": [
    "Not as good as the other models, but limited false negatives."
   ]
  },
  {
   "cell_type": "markdown",
   "metadata": {},
   "source": [
    "--------------------------------------------------\n",
    "## Using text and numerical feature"
   ]
  },
  {
   "cell_type": "markdown",
   "metadata": {},
   "source": [
    "Using the vectorized text and `all_caps` feature. <br>\n",
    "This is to get some result out of the relation between number of all-caps words in the title and the authenticity of the news articles."
   ]
  },
  {
   "cell_type": "code",
   "execution_count": 69,
   "metadata": {},
   "outputs": [],
   "source": [
    "from sklearn.preprocessing import MinMaxScaler\n",
    "from scipy.sparse import hstack, csr_matrix\n",
    "from sklearn.naive_bayes import MultinomialNB\n",
    "from sklearn.svm import LinearSVC"
   ]
  },
  {
   "cell_type": "code",
   "execution_count": 15,
   "metadata": {},
   "outputs": [
    {
     "data": {
      "text/html": [
       "<div>\n",
       "<style scoped>\n",
       "    .dataframe tbody tr th:only-of-type {\n",
       "        vertical-align: middle;\n",
       "    }\n",
       "\n",
       "    .dataframe tbody tr th {\n",
       "        vertical-align: top;\n",
       "    }\n",
       "\n",
       "    .dataframe thead th {\n",
       "        text-align: right;\n",
       "    }\n",
       "</style>\n",
       "<table border=\"1\" class=\"dataframe\">\n",
       "  <thead>\n",
       "    <tr style=\"text-align: right;\">\n",
       "      <th></th>\n",
       "      <th>title</th>\n",
       "      <th>text</th>\n",
       "      <th>subject</th>\n",
       "      <th>class</th>\n",
       "      <th>text_len</th>\n",
       "      <th>all_caps</th>\n",
       "      <th>join</th>\n",
       "    </tr>\n",
       "  </thead>\n",
       "  <tbody>\n",
       "    <tr>\n",
       "      <th>0</th>\n",
       "      <td>secretary state trip asia</td>\n",
       "      <td>washington reuter secretary state rex tillerso...</td>\n",
       "      <td>politicsNews</td>\n",
       "      <td>0</td>\n",
       "      <td>1647</td>\n",
       "      <td>1</td>\n",
       "      <td>secretary state trip asia washington reuter se...</td>\n",
       "    </tr>\n",
       "    <tr>\n",
       "      <th>1</th>\n",
       "      <td>obama commit felony send million iran video</td>\n",
       "      <td>fox news senior judicial analyst judge andrew ...</td>\n",
       "      <td>Government News</td>\n",
       "      <td>1</td>\n",
       "      <td>138</td>\n",
       "      <td>5</td>\n",
       "      <td>obama commit felony send million iran video fo...</td>\n",
       "    </tr>\n",
       "    <tr>\n",
       "      <th>2</th>\n",
       "      <td>cranky socialist bernie sander temper tantrum ...</td>\n",
       "      <td>grouch bernie sander bad day maybe realize she...</td>\n",
       "      <td>politics</td>\n",
       "      <td>1</td>\n",
       "      <td>110</td>\n",
       "      <td>8</td>\n",
       "      <td>cranky socialist bernie sander temper tantrum ...</td>\n",
       "    </tr>\n",
       "    <tr>\n",
       "      <th>3</th>\n",
       "      <td>clinton lead trump percent white house race wa...</td>\n",
       "      <td>washington reuter democratic presidential nomi...</td>\n",
       "      <td>politicsNews</td>\n",
       "      <td>0</td>\n",
       "      <td>573</td>\n",
       "      <td>0</td>\n",
       "      <td>clinton lead trump percent white house race wa...</td>\n",
       "    </tr>\n",
       "    <tr>\n",
       "      <th>4</th>\n",
       "      <td>china highestprofile fugitive assail businessm...</td>\n",
       "      <td>beijing reuter china high profile fugitive exi...</td>\n",
       "      <td>worldnews</td>\n",
       "      <td>0</td>\n",
       "      <td>3801</td>\n",
       "      <td>0</td>\n",
       "      <td>china highestprofile fugitive assail businessm...</td>\n",
       "    </tr>\n",
       "    <tr>\n",
       "      <th>...</th>\n",
       "      <td>...</td>\n",
       "      <td>...</td>\n",
       "      <td>...</td>\n",
       "      <td>...</td>\n",
       "      <td>...</td>\n",
       "      <td>...</td>\n",
       "      <td>...</td>\n",
       "    </tr>\n",
       "    <tr>\n",
       "      <th>44893</th>\n",
       "      <td>watch elizabeth warren destroy donald trump ep...</td>\n",
       "      <td>senator elizabeth warren dma light republican ...</td>\n",
       "      <td>News</td>\n",
       "      <td>1</td>\n",
       "      <td>3275</td>\n",
       "      <td>2</td>\n",
       "      <td>watch elizabeth warren destroy donald trump ep...</td>\n",
       "    </tr>\n",
       "    <tr>\n",
       "      <th>44894</th>\n",
       "      <td>trump mock invent fake civil war battle golf c...</td>\n",
       "      <td>frederick douglass andrew jackson disappoint d...</td>\n",
       "      <td>News</td>\n",
       "      <td>1</td>\n",
       "      <td>4472</td>\n",
       "      <td>2</td>\n",
       "      <td>trump mock invent fake civil war battle golf c...</td>\n",
       "    </tr>\n",
       "    <tr>\n",
       "      <th>44895</th>\n",
       "      <td>internet live great firewall china</td>\n",
       "      <td>reuter great firewall china world extensive ef...</td>\n",
       "      <td>worldnews</td>\n",
       "      <td>0</td>\n",
       "      <td>2456</td>\n",
       "      <td>1</td>\n",
       "      <td>internet live great firewall china reuter grea...</td>\n",
       "    </tr>\n",
       "    <tr>\n",
       "      <th>44896</th>\n",
       "      <td>exclusive pursue direct diplomacy north korea ...</td>\n",
       "      <td>washington reuter united state quietly pursue ...</td>\n",
       "      <td>worldnews</td>\n",
       "      <td>0</td>\n",
       "      <td>5397</td>\n",
       "      <td>1</td>\n",
       "      <td>exclusive pursue direct diplomacy north korea ...</td>\n",
       "    </tr>\n",
       "    <tr>\n",
       "      <th>44897</th>\n",
       "      <td>republican signaling shift say money need zika...</td>\n",
       "      <td>washington reuter senior house representative ...</td>\n",
       "      <td>politicsNews</td>\n",
       "      <td>0</td>\n",
       "      <td>3041</td>\n",
       "      <td>0</td>\n",
       "      <td>republican signaling shift say money need zika...</td>\n",
       "    </tr>\n",
       "  </tbody>\n",
       "</table>\n",
       "<p>44182 rows × 7 columns</p>\n",
       "</div>"
      ],
      "text/plain": [
       "                                                   title  \\\n",
       "0                              secretary state trip asia   \n",
       "1            obama commit felony send million iran video   \n",
       "2      cranky socialist bernie sander temper tantrum ...   \n",
       "3      clinton lead trump percent white house race wa...   \n",
       "4      china highestprofile fugitive assail businessm...   \n",
       "...                                                  ...   \n",
       "44893  watch elizabeth warren destroy donald trump ep...   \n",
       "44894  trump mock invent fake civil war battle golf c...   \n",
       "44895                 internet live great firewall china   \n",
       "44896  exclusive pursue direct diplomacy north korea ...   \n",
       "44897  republican signaling shift say money need zika...   \n",
       "\n",
       "                                                    text          subject  \\\n",
       "0      washington reuter secretary state rex tillerso...     politicsNews   \n",
       "1      fox news senior judicial analyst judge andrew ...  Government News   \n",
       "2      grouch bernie sander bad day maybe realize she...         politics   \n",
       "3      washington reuter democratic presidential nomi...     politicsNews   \n",
       "4      beijing reuter china high profile fugitive exi...        worldnews   \n",
       "...                                                  ...              ...   \n",
       "44893  senator elizabeth warren dma light republican ...             News   \n",
       "44894  frederick douglass andrew jackson disappoint d...             News   \n",
       "44895  reuter great firewall china world extensive ef...        worldnews   \n",
       "44896  washington reuter united state quietly pursue ...        worldnews   \n",
       "44897  washington reuter senior house representative ...     politicsNews   \n",
       "\n",
       "       class  text_len  all_caps  \\\n",
       "0          0      1647         1   \n",
       "1          1       138         5   \n",
       "2          1       110         8   \n",
       "3          0       573         0   \n",
       "4          0      3801         0   \n",
       "...      ...       ...       ...   \n",
       "44893      1      3275         2   \n",
       "44894      1      4472         2   \n",
       "44895      0      2456         1   \n",
       "44896      0      5397         1   \n",
       "44897      0      3041         0   \n",
       "\n",
       "                                                    join  \n",
       "0      secretary state trip asia washington reuter se...  \n",
       "1      obama commit felony send million iran video fo...  \n",
       "2      cranky socialist bernie sander temper tantrum ...  \n",
       "3      clinton lead trump percent white house race wa...  \n",
       "4      china highestprofile fugitive assail businessm...  \n",
       "...                                                  ...  \n",
       "44893  watch elizabeth warren destroy donald trump ep...  \n",
       "44894  trump mock invent fake civil war battle golf c...  \n",
       "44895  internet live great firewall china reuter grea...  \n",
       "44896  exclusive pursue direct diplomacy north korea ...  \n",
       "44897  republican signaling shift say money need zika...  \n",
       "\n",
       "[44182 rows x 7 columns]"
      ]
     },
     "execution_count": 15,
     "metadata": {},
     "output_type": "execute_result"
    }
   ],
   "source": [
    "data"
   ]
  },
  {
   "cell_type": "code",
   "execution_count": 16,
   "metadata": {
    "scrolled": true
   },
   "outputs": [],
   "source": [
    "X_new = data[['join', 'all_caps']]\n",
    "Y = data['class']\n",
    "#X_new"
   ]
  },
  {
   "cell_type": "code",
   "execution_count": 17,
   "metadata": {},
   "outputs": [
    {
     "data": {
      "text/plain": [
       "join        0\n",
       "all_caps    0\n",
       "dtype: int64"
      ]
     },
     "execution_count": 17,
     "metadata": {},
     "output_type": "execute_result"
    }
   ],
   "source": [
    "X_new.isnull().sum()"
   ]
  },
  {
   "cell_type": "markdown",
   "metadata": {},
   "source": [
    "### CountVectorizer"
   ]
  },
  {
   "cell_type": "markdown",
   "metadata": {},
   "source": [
    "Using CountVectorizer on text and MinMaxScaler on the numerical feature. <br>\n",
    "The function stacks these as a single sparse csr matrix."
   ]
  },
  {
   "cell_type": "code",
   "execution_count": 18,
   "metadata": {},
   "outputs": [
    {
     "name": "stdout",
     "output_type": "stream",
     "text": [
      "output shape:  (44182, 10037141)\n"
     ]
    }
   ],
   "source": [
    "def vect_stack(df, vectorizer):\n",
    "    # using vectorizer on text\n",
    "    x_train_vect = vect.fit_transform(df['join'])\n",
    "\n",
    "    # min-max scaling all-caps feature\n",
    "    x_train_num = np.array(df['all_caps'])\n",
    "    x_train_num = np.reshape(x_train_num,(x_train_num.shape[0],1))\n",
    "    scaler = MinMaxScaler()\n",
    "    # converting scaled numeric feature to csr matrix\n",
    "    x_train_num = csr_matrix(scaler.fit_transform(x_train_num))\n",
    "    \n",
    "    # stacking both csr matrices \n",
    "    x_train_stack = hstack([x_train_vect, x_train_num])\n",
    "    print('output shape: ', x_train_stack.shape)\n",
    "    \n",
    "    # return the final concatenated csr matrix\n",
    "    return x_train_stack\n",
    "\n",
    "# using CountVector \n",
    "# parameters from previous cv\n",
    "vect = CountVectorizer(ngram_range = (1,3)) \n",
    "X_stack = vect_stack(X_new, vect)"
   ]
  },
  {
   "cell_type": "markdown",
   "metadata": {},
   "source": [
    "### Train/test split"
   ]
  },
  {
   "cell_type": "code",
   "execution_count": 19,
   "metadata": {},
   "outputs": [
    {
     "name": "stdout",
     "output_type": "stream",
     "text": [
      "(33136, 10037141) (11046, 10037141)\n"
     ]
    }
   ],
   "source": [
    "X_train, X_val, Y_train, Y_val = train_test_split(X_stack,Y, test_size=0.25, random_state=42)\n",
    "print(X_train.shape,X_val.shape)"
   ]
  },
  {
   "cell_type": "markdown",
   "metadata": {},
   "source": [
    "### Naive Bayes"
   ]
  },
  {
   "cell_type": "code",
   "execution_count": 62,
   "metadata": {},
   "outputs": [
    {
     "data": {
      "text/plain": [
       "MultinomialNB(alpha=2)"
      ]
     },
     "execution_count": 62,
     "metadata": {},
     "output_type": "execute_result"
    }
   ],
   "source": [
    "nb = MultinomialNB(alpha=2)\n",
    "nb.fit(X_train, Y_train)"
   ]
  },
  {
   "cell_type": "code",
   "execution_count": 63,
   "metadata": {},
   "outputs": [
    {
     "name": "stdout",
     "output_type": "stream",
     "text": [
      "              precision    recall  f1-score   support\n",
      "\n",
      "           0       0.97      0.99      0.98      5446\n",
      "           1       0.99      0.97      0.98      5600\n",
      "\n",
      "    accuracy                           0.98     11046\n",
      "   macro avg       0.98      0.98      0.98     11046\n",
      "weighted avg       0.98      0.98      0.98     11046\n",
      "\n"
     ]
    },
    {
     "data": {
      "image/png": "[encoded data removed]",
      "text/plain": [
       "<Figure size 720x576 with 2 Axes>"
      ]
     },
     "metadata": {
      "needs_background": "light"
     },
     "output_type": "display_data"
    }
   ],
   "source": [
    "Y_predict = nb.predict(X_val)\n",
    "plt.figure(figsize=(10,8))\n",
    "sns.heatmap(confusion_matrix(Y_val, Y_predict), annot=True, cmap='Blues', fmt='d')\n",
    "\n",
    "# f1-score and other scores:\n",
    "print(classification_report(Y_val, Y_predict))"
   ]
  },
  {
   "cell_type": "markdown",
   "metadata": {},
   "source": [
    "### LinearSVC"
   ]
  },
  {
   "cell_type": "markdown",
   "metadata": {},
   "source": [
    "Testing parameters, cv takes too long"
   ]
  },
  {
   "cell_type": "code",
   "execution_count": 112,
   "metadata": {},
   "outputs": [
    {
     "data": {
      "text/plain": [
       "LinearSVC(C=0.01, max_iter=10000, tol=1e-05)"
      ]
     },
     "execution_count": 112,
     "metadata": {},
     "output_type": "execute_result"
    }
   ],
   "source": [
    "svm = LinearSVC(max_iter=10000, C=0.01, tol=0.00001)\n",
    "svm.fit(X_train, Y_train)"
   ]
  },
  {
   "cell_type": "code",
   "execution_count": 113,
   "metadata": {},
   "outputs": [
    {
     "name": "stdout",
     "output_type": "stream",
     "text": [
      "              precision    recall  f1-score   support\n",
      "\n",
      "           0     0.9954    0.9961    0.9958      5446\n",
      "           1     0.9962    0.9955    0.9959      5600\n",
      "\n",
      "    accuracy                         0.9958     11046\n",
      "   macro avg     0.9958    0.9958    0.9958     11046\n",
      "weighted avg     0.9958    0.9958    0.9958     11046\n",
      "\n"
     ]
    },
    {
     "data": {
      "image/png": "[encoded data removed]",
      "text/plain": [
       "<Figure size 720x576 with 2 Axes>"
      ]
     },
     "metadata": {
      "needs_background": "light"
     },
     "output_type": "display_data"
    }
   ],
   "source": [
    "Y_predict = svm.predict(X_val)\n",
    "plt.figure(figsize=(10,8))\n",
    "sns.heatmap(confusion_matrix(Y_val, Y_predict), annot=True, cmap='Blues', fmt='d')\n",
    "\n",
    "# f1-score and other scores:\n",
    "print(classification_report(Y_val, Y_predict, digits=4))"
   ]
  },
  {
   "cell_type": "markdown",
   "metadata": {},
   "source": [
    "LinearSVC is the best model tested in this notebook. <br>\n",
    ">**99.59% f1 score** <br>\n",
    ">**99.58% accuracy** <br>\n",
    "\n",
    "Though adding the `all_caps` feature doesnt seem to make much difference to the results."
   ]
  },
  {
   "cell_type": "code",
   "execution_count": null,
   "metadata": {},
   "outputs": [],
   "source": []
  }
 ],
 "metadata": {
  "kernelspec": {
   "display_name": "Python 3",
   "language": "python",
   "name": "python3"
  },
  "language_info": {
   "codemirror_mode": {
    "name": "ipython",
    "version": 3
   },
   "file_extension": ".py",
   "mimetype": "text/x-python",
   "name": "python",
   "nbconvert_exporter": "python",
   "pygments_lexer": "ipython3",
   "version": "3.8.5"
  }
 },
 "nbformat": 4,
 "nbformat_minor": 4
}
